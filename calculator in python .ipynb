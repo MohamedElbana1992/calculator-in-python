{
 "cells": [
  {
   "cell_type": "code",
   "execution_count": 1,
   "id": "8066877c",
   "metadata": {},
   "outputs": [
    {
     "name": "stdout",
     "output_type": "stream",
     "text": [
      "enter the first number:10\n",
      "enter operator:+\n",
      "enter the second number:5\n",
      "15.0\n"
     ]
    }
   ],
   "source": [
    "num1=float(input(\"enter the first number:\"))\n",
    "operator= input(\"enter operator:\")\n",
    "num2=float(input(\"enter the second number:\"))\n",
    "if operator ==\"+\":\n",
    "    print(num1+num2)\n",
    "elif  operator ==\"-\":\n",
    "    print(num1-num2) \n",
    "elif  operator ==\"/\":\n",
    "    print(num1/num2)     \n",
    "elif  operator ==\"*\":\n",
    "    print(num1*num2) \n",
    "else:\n",
    "    print(\"wrong operator please enter the correct operator\")"
   ]
  },
  {
   "cell_type": "code",
   "execution_count": null,
   "id": "995bdbf9",
   "metadata": {},
   "outputs": [],
   "source": []
  }
 ],
 "metadata": {
  "kernelspec": {
   "display_name": "Python 3 (ipykernel)",
   "language": "python",
   "name": "python3"
  },
  "language_info": {
   "codemirror_mode": {
    "name": "ipython",
    "version": 3
   },
   "file_extension": ".py",
   "mimetype": "text/x-python",
   "name": "python",
   "nbconvert_exporter": "python",
   "pygments_lexer": "ipython3",
   "version": "3.9.7"
  }
 },
 "nbformat": 4,
 "nbformat_minor": 5
}
